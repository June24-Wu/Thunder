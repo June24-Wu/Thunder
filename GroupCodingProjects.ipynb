{
  "nbformat": 4,
  "nbformat_minor": 0,
  "metadata": {
    "celltoolbar": "Raw Cell Format",
    "kernelspec": {
      "display_name": "Python 3",
      "language": "python",
      "name": "python3"
    },
    "language_info": {
      "codemirror_mode": {
        "name": "ipython",
        "version": 3
      },
      "file_extension": ".py",
      "mimetype": "text/x-python",
      "name": "python",
      "nbconvert_exporter": "python",
      "pygments_lexer": "ipython3",
      "version": "3.7.3"
    },
    "colab": {
      "provenance": [],
      "collapsed_sections": [],
      "include_colab_link": true
    }
  },
  "cells": [
    {
      "cell_type": "markdown",
      "metadata": {
        "id": "view-in-github",
        "colab_type": "text"
      },
      "source": [
        "<a href=\"https://colab.research.google.com/github/June24-Wu/Thunder/blob/main/GroupCodingProjects.ipynb\" target=\"_parent\"><img src=\"https://colab.research.google.com/assets/colab-badge.svg\" alt=\"Open In Colab\"/></a>"
      ]
    },
    {
      "cell_type": "markdown",
      "metadata": {
        "id": "rnpk6PJry21v"
      },
      "source": [
        "<img src=\"https://news.illinois.edu/files/6367/543635/116641.jpg\" alt=\"University of Illinois\" width=\"250\"/>\n",
        "\n",
        "## HW: Deep Learning ##\n",
        "\n",
        "Note:  Anaconda Python <https://www.anaconda.com/distribution/> is a strong implementation of python."
      ]
    },
    {
      "cell_type": "markdown",
      "metadata": {
        "id": "b2CU_7Bgy212"
      },
      "source": [
        "### imports and graphics configurations ###"
      ]
    },
    {
      "cell_type": "code",
      "metadata": {
        "id": "6elr9Ogwy213"
      },
      "source": [
        "import numpy\n",
        "import pandas\n",
        "import time\n",
        "import random\n",
        "import matplotlib\n",
        "#%matplotlib notebook\n",
        "import matplotlib.pyplot as plt\n",
        "import scipy.stats\n",
        "import matplotlib.offsetbox as offsetbox\n",
        "from matplotlib.ticker import StrMethodFormatter\n",
        "import numpy as np"
      ],
      "execution_count": 1,
      "outputs": []
    },
    {
      "cell_type": "code",
      "metadata": {
        "id": "ydypCNbYy213"
      },
      "source": [
        "#for some reason, this needs to be in a separate cell\n",
        "params={\n",
        "    \"font.size\":15,\n",
        "    \"lines.linewidth\":5,\n",
        "}\n",
        "plt.rcParams.update(params)"
      ],
      "execution_count": 2,
      "outputs": []
    },
    {
      "cell_type": "markdown",
      "metadata": {
        "id": "Vxa_BAz36MZY"
      },
      "source": [
        "# **Technology** #"
      ]
    },
    {
      "cell_type": "markdown",
      "metadata": {
        "id": "MTcO0Y5n6Pnm"
      },
      "source": [
        "**Technology:** Compute $\\cos(k\\pi/10)$ for $k\\in \\{0,1,2,\\dots 20\\}$"
      ]
    },
    {
      "cell_type": "code",
      "source": [
        "import math\n",
        "for k in range(21):\n",
        "  print(math.cos(k * math.pi / 10))"
      ],
      "metadata": {
        "colab": {
          "base_uri": "https://localhost:8080/"
        },
        "id": "LHyU0hO6KAWb",
        "outputId": "b36d4d63-f336-4882-d69e-dcfc4280e70c"
      },
      "execution_count": null,
      "outputs": [
        {
          "output_type": "stream",
          "name": "stdout",
          "text": [
            "1.0\n",
            "0.9510565162951535\n",
            "0.8090169943749475\n",
            "0.5877852522924731\n",
            "0.30901699437494745\n",
            "6.123233995736766e-17\n",
            "-0.30901699437494734\n",
            "-0.587785252292473\n",
            "-0.8090169943749473\n",
            "-0.9510565162951535\n",
            "-1.0\n",
            "-0.9510565162951538\n",
            "-0.8090169943749476\n",
            "-0.5877852522924732\n",
            "-0.30901699437494756\n",
            "-1.8369701987210297e-16\n",
            "0.30901699437494723\n",
            "0.5877852522924729\n",
            "0.8090169943749473\n",
            "0.9510565162951535\n",
            "1.0\n"
          ]
        }
      ]
    },
    {
      "cell_type": "markdown",
      "metadata": {
        "id": "-v7OKcoHzH-t"
      },
      "source": [
        "# **Linear Regression** #"
      ]
    },
    {
      "cell_type": "markdown",
      "metadata": {
        "id": "qwLUFyQN5caY"
      },
      "source": [
        "**Manual Linear Regression** Consider linear regression of price upon the feature set\n",
        "* Square Feet\n",
        "* number of Beds\n",
        "* number of Baths\n",
        "* Year built\n",
        "* HOA/Month\n",
        "\n",
        "Carry out (multivariable) linear regression on all of these features, using\n",
        "* sklearn\n",
        "* the explicit formula (which you should derive)\n",
        "* a gradient descent algorithm."
      ]
    },
    {
      "cell_type": "markdown",
      "metadata": {
        "id": "4i86xM4MpjoP"
      },
      "source": [
        "**Feature Importance** Consider linear regression of price upon the feature set\n",
        "* Square Feet\n",
        "* number of Beds\n",
        "* number of Baths\n",
        "* Year built\n",
        "* HOA/Month\n",
        "\n",
        "One by one, remove each of these features and repeat linear regression.\n",
        "* Rank features by how the loss (mean square error) changes as each of the features is removed\n",
        "* Rank features by how the metric (mean absolute error) changes as each of the features is removed"
      ]
    },
    {
      "cell_type": "code",
      "metadata": {
        "id": "wxvn9iZF5SCF",
        "colab": {
          "base_uri": "https://localhost:8080/",
          "height": 1000
        },
        "outputId": "ea7137a1-545e-4c10-cd22-afd5f836e505"
      },
      "source": [
        "def getfile(location_pair,**kwargs): #tries to get local version and then defaults to google drive version\n",
        "    (loc,gdrive)=location_pair\n",
        "    try:\n",
        "        out=pandas.read_csv(loc,**kwargs)\n",
        "    except FileNotFoundError:\n",
        "        print(\"local file not found; accessing Google Drive\")\n",
        "        loc = 'https://drive.google.com/uc?export=download&id='+gdrive.split('/')[-2]\n",
        "        out=pandas.read_csv(loc,**kwargs)\n",
        "    return out\n",
        "\n",
        "fname=(\"redfin_data.csv\",\"https://drive.google.com/file/d/1ei7JaZ4M1lrw3TyYcWozESi8HrHccnUx/view?usp=sharing\")\n",
        "data=getfile(fname)\n",
        "data = data[[\"SQUARE FEET\",\"BEDS\",\"BATHS\",\"YEAR BUILT\",\"HOA/MONTH\",\"PRICE\"]].dropna()\n",
        "data"
      ],
      "execution_count": 3,
      "outputs": [
        {
          "output_type": "stream",
          "name": "stdout",
          "text": [
            "local file not found; accessing Google Drive\n"
          ]
        },
        {
          "output_type": "execute_result",
          "data": {
            "text/plain": [
              "    SQUARE FEET  BEDS  BATHS  YEAR BUILT  HOA/MONTH   PRICE\n",
              "0        2000.0   3.0    2.5      1928.0      660.0  549000\n",
              "1        2138.0   2.0    2.5      2002.0     1250.0  925000\n",
              "3        1426.0   2.0    2.0      1980.0      446.0  315000\n",
              "11        900.0   2.0    1.0      1920.0      298.0  150000\n",
              "12       1400.0   2.0    2.0      1980.0      495.0  299000\n",
              "13       1060.0   2.0    2.0      2000.0      718.0  315000\n",
              "17       1660.0   2.0    2.5      1990.0      659.0  425000\n",
              "18        800.0   1.0    1.0      1920.0      357.0  159000\n",
              "22       1650.0   3.0    2.0      1967.0      463.0  339000\n",
              "23       1475.0   2.0    2.0      1969.0      421.0  390000\n",
              "24       1323.0   2.0    2.0      2004.0      730.0  410000\n",
              "25       1355.0   2.0    2.0      2002.0      792.0  450000\n",
              "27       1700.0   3.0    2.0      1928.0      200.0  299900\n",
              "30       1000.0   2.0    1.0      1954.0      374.0  169000\n",
              "32       1487.0   2.0    2.0      2008.0      444.0  415000\n",
              "34       1399.0   2.0    1.0      1997.0      351.0  270000\n",
              "35       1970.0   2.0    2.0      1978.0      607.0  275000\n",
              "36        896.0   1.0    1.0      2006.0      461.0  250000\n",
              "39       1599.0   2.0    2.5      2017.0      190.0  450000\n",
              "40       1615.0   2.0    2.5      2000.0      453.0  380000\n",
              "42       1411.0   2.0    2.0      1971.0      438.0  449000\n",
              "43        850.0   2.0    1.0      1928.0      385.0  235000\n",
              "44       2602.0   4.0    2.5      2004.0      285.0  519000\n",
              "45        900.0   1.0    1.0      1969.0      321.0  155000\n",
              "46       1200.0   2.0    1.0      1950.0      250.0  196000\n",
              "49       1434.0   3.0    2.0      1909.0      298.0  325000\n",
              "50       1110.0   2.0    1.0      2000.0      360.0  135000\n",
              "51       1100.0   2.0    2.0      1929.0      429.0  319000\n",
              "52       1343.0   2.0    2.0      1999.0      480.0  299900\n",
              "53       1566.0   3.0    2.0      1971.0      533.0  379000\n",
              "54        900.0   2.0    1.0      1949.0      264.0  151000\n",
              "55       1100.0   2.0    1.0      1955.0      225.0  175000\n",
              "56        800.0   1.0    1.0      2006.0      364.0  335000\n",
              "58       1250.0   2.0    1.5      1960.0      437.0  169900\n",
              "61        858.0   1.0    1.0      2002.0      515.0  225000\n",
              "66        985.0   2.0    1.5      1947.0      997.0   99900\n",
              "69       1670.0   3.0    2.0      1908.0      609.0  525000\n",
              "71        750.0   1.0    1.0      1950.0      421.0  103000\n",
              "76        900.0   2.0    1.0      1947.0     1052.0   79000\n",
              "77        900.0   2.0    1.0      1948.0      546.0  119750\n",
              "80        856.0   1.0    1.5      2007.0      452.0  217500\n",
              "82       1340.0   3.0    2.0      1916.0      400.0  339000\n",
              "88       1360.0   3.0    2.0      1950.0      398.0  319000\n",
              "90       1587.0   3.0    2.0      2002.0      829.0  485000\n",
              "92       1300.0   2.0    2.0      2000.0      553.0  415000\n",
              "95       1100.0   2.0    1.0      1950.0      415.0  125000\n",
              "96        725.0   1.0    1.0      1916.0      264.0  159900\n",
              "99       1807.0   2.0    2.5      1910.0      465.0  530000"
            ],
            "text/html": [
              "\n",
              "  <div id=\"df-8de43746-b69b-4450-b60f-63ab4e1cf38c\">\n",
              "    <div class=\"colab-df-container\">\n",
              "      <div>\n",
              "<style scoped>\n",
              "    .dataframe tbody tr th:only-of-type {\n",
              "        vertical-align: middle;\n",
              "    }\n",
              "\n",
              "    .dataframe tbody tr th {\n",
              "        vertical-align: top;\n",
              "    }\n",
              "\n",
              "    .dataframe thead th {\n",
              "        text-align: right;\n",
              "    }\n",
              "</style>\n",
              "<table border=\"1\" class=\"dataframe\">\n",
              "  <thead>\n",
              "    <tr style=\"text-align: right;\">\n",
              "      <th></th>\n",
              "      <th>SQUARE FEET</th>\n",
              "      <th>BEDS</th>\n",
              "      <th>BATHS</th>\n",
              "      <th>YEAR BUILT</th>\n",
              "      <th>HOA/MONTH</th>\n",
              "      <th>PRICE</th>\n",
              "    </tr>\n",
              "  </thead>\n",
              "  <tbody>\n",
              "    <tr>\n",
              "      <th>0</th>\n",
              "      <td>2000.0</td>\n",
              "      <td>3.0</td>\n",
              "      <td>2.5</td>\n",
              "      <td>1928.0</td>\n",
              "      <td>660.0</td>\n",
              "      <td>549000</td>\n",
              "    </tr>\n",
              "    <tr>\n",
              "      <th>1</th>\n",
              "      <td>2138.0</td>\n",
              "      <td>2.0</td>\n",
              "      <td>2.5</td>\n",
              "      <td>2002.0</td>\n",
              "      <td>1250.0</td>\n",
              "      <td>925000</td>\n",
              "    </tr>\n",
              "    <tr>\n",
              "      <th>3</th>\n",
              "      <td>1426.0</td>\n",
              "      <td>2.0</td>\n",
              "      <td>2.0</td>\n",
              "      <td>1980.0</td>\n",
              "      <td>446.0</td>\n",
              "      <td>315000</td>\n",
              "    </tr>\n",
              "    <tr>\n",
              "      <th>11</th>\n",
              "      <td>900.0</td>\n",
              "      <td>2.0</td>\n",
              "      <td>1.0</td>\n",
              "      <td>1920.0</td>\n",
              "      <td>298.0</td>\n",
              "      <td>150000</td>\n",
              "    </tr>\n",
              "    <tr>\n",
              "      <th>12</th>\n",
              "      <td>1400.0</td>\n",
              "      <td>2.0</td>\n",
              "      <td>2.0</td>\n",
              "      <td>1980.0</td>\n",
              "      <td>495.0</td>\n",
              "      <td>299000</td>\n",
              "    </tr>\n",
              "    <tr>\n",
              "      <th>13</th>\n",
              "      <td>1060.0</td>\n",
              "      <td>2.0</td>\n",
              "      <td>2.0</td>\n",
              "      <td>2000.0</td>\n",
              "      <td>718.0</td>\n",
              "      <td>315000</td>\n",
              "    </tr>\n",
              "    <tr>\n",
              "      <th>17</th>\n",
              "      <td>1660.0</td>\n",
              "      <td>2.0</td>\n",
              "      <td>2.5</td>\n",
              "      <td>1990.0</td>\n",
              "      <td>659.0</td>\n",
              "      <td>425000</td>\n",
              "    </tr>\n",
              "    <tr>\n",
              "      <th>18</th>\n",
              "      <td>800.0</td>\n",
              "      <td>1.0</td>\n",
              "      <td>1.0</td>\n",
              "      <td>1920.0</td>\n",
              "      <td>357.0</td>\n",
              "      <td>159000</td>\n",
              "    </tr>\n",
              "    <tr>\n",
              "      <th>22</th>\n",
              "      <td>1650.0</td>\n",
              "      <td>3.0</td>\n",
              "      <td>2.0</td>\n",
              "      <td>1967.0</td>\n",
              "      <td>463.0</td>\n",
              "      <td>339000</td>\n",
              "    </tr>\n",
              "    <tr>\n",
              "      <th>23</th>\n",
              "      <td>1475.0</td>\n",
              "      <td>2.0</td>\n",
              "      <td>2.0</td>\n",
              "      <td>1969.0</td>\n",
              "      <td>421.0</td>\n",
              "      <td>390000</td>\n",
              "    </tr>\n",
              "    <tr>\n",
              "      <th>24</th>\n",
              "      <td>1323.0</td>\n",
              "      <td>2.0</td>\n",
              "      <td>2.0</td>\n",
              "      <td>2004.0</td>\n",
              "      <td>730.0</td>\n",
              "      <td>410000</td>\n",
              "    </tr>\n",
              "    <tr>\n",
              "      <th>25</th>\n",
              "      <td>1355.0</td>\n",
              "      <td>2.0</td>\n",
              "      <td>2.0</td>\n",
              "      <td>2002.0</td>\n",
              "      <td>792.0</td>\n",
              "      <td>450000</td>\n",
              "    </tr>\n",
              "    <tr>\n",
              "      <th>27</th>\n",
              "      <td>1700.0</td>\n",
              "      <td>3.0</td>\n",
              "      <td>2.0</td>\n",
              "      <td>1928.0</td>\n",
              "      <td>200.0</td>\n",
              "      <td>299900</td>\n",
              "    </tr>\n",
              "    <tr>\n",
              "      <th>30</th>\n",
              "      <td>1000.0</td>\n",
              "      <td>2.0</td>\n",
              "      <td>1.0</td>\n",
              "      <td>1954.0</td>\n",
              "      <td>374.0</td>\n",
              "      <td>169000</td>\n",
              "    </tr>\n",
              "    <tr>\n",
              "      <th>32</th>\n",
              "      <td>1487.0</td>\n",
              "      <td>2.0</td>\n",
              "      <td>2.0</td>\n",
              "      <td>2008.0</td>\n",
              "      <td>444.0</td>\n",
              "      <td>415000</td>\n",
              "    </tr>\n",
              "    <tr>\n",
              "      <th>34</th>\n",
              "      <td>1399.0</td>\n",
              "      <td>2.0</td>\n",
              "      <td>1.0</td>\n",
              "      <td>1997.0</td>\n",
              "      <td>351.0</td>\n",
              "      <td>270000</td>\n",
              "    </tr>\n",
              "    <tr>\n",
              "      <th>35</th>\n",
              "      <td>1970.0</td>\n",
              "      <td>2.0</td>\n",
              "      <td>2.0</td>\n",
              "      <td>1978.0</td>\n",
              "      <td>607.0</td>\n",
              "      <td>275000</td>\n",
              "    </tr>\n",
              "    <tr>\n",
              "      <th>36</th>\n",
              "      <td>896.0</td>\n",
              "      <td>1.0</td>\n",
              "      <td>1.0</td>\n",
              "      <td>2006.0</td>\n",
              "      <td>461.0</td>\n",
              "      <td>250000</td>\n",
              "    </tr>\n",
              "    <tr>\n",
              "      <th>39</th>\n",
              "      <td>1599.0</td>\n",
              "      <td>2.0</td>\n",
              "      <td>2.5</td>\n",
              "      <td>2017.0</td>\n",
              "      <td>190.0</td>\n",
              "      <td>450000</td>\n",
              "    </tr>\n",
              "    <tr>\n",
              "      <th>40</th>\n",
              "      <td>1615.0</td>\n",
              "      <td>2.0</td>\n",
              "      <td>2.5</td>\n",
              "      <td>2000.0</td>\n",
              "      <td>453.0</td>\n",
              "      <td>380000</td>\n",
              "    </tr>\n",
              "    <tr>\n",
              "      <th>42</th>\n",
              "      <td>1411.0</td>\n",
              "      <td>2.0</td>\n",
              "      <td>2.0</td>\n",
              "      <td>1971.0</td>\n",
              "      <td>438.0</td>\n",
              "      <td>449000</td>\n",
              "    </tr>\n",
              "    <tr>\n",
              "      <th>43</th>\n",
              "      <td>850.0</td>\n",
              "      <td>2.0</td>\n",
              "      <td>1.0</td>\n",
              "      <td>1928.0</td>\n",
              "      <td>385.0</td>\n",
              "      <td>235000</td>\n",
              "    </tr>\n",
              "    <tr>\n",
              "      <th>44</th>\n",
              "      <td>2602.0</td>\n",
              "      <td>4.0</td>\n",
              "      <td>2.5</td>\n",
              "      <td>2004.0</td>\n",
              "      <td>285.0</td>\n",
              "      <td>519000</td>\n",
              "    </tr>\n",
              "    <tr>\n",
              "      <th>45</th>\n",
              "      <td>900.0</td>\n",
              "      <td>1.0</td>\n",
              "      <td>1.0</td>\n",
              "      <td>1969.0</td>\n",
              "      <td>321.0</td>\n",
              "      <td>155000</td>\n",
              "    </tr>\n",
              "    <tr>\n",
              "      <th>46</th>\n",
              "      <td>1200.0</td>\n",
              "      <td>2.0</td>\n",
              "      <td>1.0</td>\n",
              "      <td>1950.0</td>\n",
              "      <td>250.0</td>\n",
              "      <td>196000</td>\n",
              "    </tr>\n",
              "    <tr>\n",
              "      <th>49</th>\n",
              "      <td>1434.0</td>\n",
              "      <td>3.0</td>\n",
              "      <td>2.0</td>\n",
              "      <td>1909.0</td>\n",
              "      <td>298.0</td>\n",
              "      <td>325000</td>\n",
              "    </tr>\n",
              "    <tr>\n",
              "      <th>50</th>\n",
              "      <td>1110.0</td>\n",
              "      <td>2.0</td>\n",
              "      <td>1.0</td>\n",
              "      <td>2000.0</td>\n",
              "      <td>360.0</td>\n",
              "      <td>135000</td>\n",
              "    </tr>\n",
              "    <tr>\n",
              "      <th>51</th>\n",
              "      <td>1100.0</td>\n",
              "      <td>2.0</td>\n",
              "      <td>2.0</td>\n",
              "      <td>1929.0</td>\n",
              "      <td>429.0</td>\n",
              "      <td>319000</td>\n",
              "    </tr>\n",
              "    <tr>\n",
              "      <th>52</th>\n",
              "      <td>1343.0</td>\n",
              "      <td>2.0</td>\n",
              "      <td>2.0</td>\n",
              "      <td>1999.0</td>\n",
              "      <td>480.0</td>\n",
              "      <td>299900</td>\n",
              "    </tr>\n",
              "    <tr>\n",
              "      <th>53</th>\n",
              "      <td>1566.0</td>\n",
              "      <td>3.0</td>\n",
              "      <td>2.0</td>\n",
              "      <td>1971.0</td>\n",
              "      <td>533.0</td>\n",
              "      <td>379000</td>\n",
              "    </tr>\n",
              "    <tr>\n",
              "      <th>54</th>\n",
              "      <td>900.0</td>\n",
              "      <td>2.0</td>\n",
              "      <td>1.0</td>\n",
              "      <td>1949.0</td>\n",
              "      <td>264.0</td>\n",
              "      <td>151000</td>\n",
              "    </tr>\n",
              "    <tr>\n",
              "      <th>55</th>\n",
              "      <td>1100.0</td>\n",
              "      <td>2.0</td>\n",
              "      <td>1.0</td>\n",
              "      <td>1955.0</td>\n",
              "      <td>225.0</td>\n",
              "      <td>175000</td>\n",
              "    </tr>\n",
              "    <tr>\n",
              "      <th>56</th>\n",
              "      <td>800.0</td>\n",
              "      <td>1.0</td>\n",
              "      <td>1.0</td>\n",
              "      <td>2006.0</td>\n",
              "      <td>364.0</td>\n",
              "      <td>335000</td>\n",
              "    </tr>\n",
              "    <tr>\n",
              "      <th>58</th>\n",
              "      <td>1250.0</td>\n",
              "      <td>2.0</td>\n",
              "      <td>1.5</td>\n",
              "      <td>1960.0</td>\n",
              "      <td>437.0</td>\n",
              "      <td>169900</td>\n",
              "    </tr>\n",
              "    <tr>\n",
              "      <th>61</th>\n",
              "      <td>858.0</td>\n",
              "      <td>1.0</td>\n",
              "      <td>1.0</td>\n",
              "      <td>2002.0</td>\n",
              "      <td>515.0</td>\n",
              "      <td>225000</td>\n",
              "    </tr>\n",
              "    <tr>\n",
              "      <th>66</th>\n",
              "      <td>985.0</td>\n",
              "      <td>2.0</td>\n",
              "      <td>1.5</td>\n",
              "      <td>1947.0</td>\n",
              "      <td>997.0</td>\n",
              "      <td>99900</td>\n",
              "    </tr>\n",
              "    <tr>\n",
              "      <th>69</th>\n",
              "      <td>1670.0</td>\n",
              "      <td>3.0</td>\n",
              "      <td>2.0</td>\n",
              "      <td>1908.0</td>\n",
              "      <td>609.0</td>\n",
              "      <td>525000</td>\n",
              "    </tr>\n",
              "    <tr>\n",
              "      <th>71</th>\n",
              "      <td>750.0</td>\n",
              "      <td>1.0</td>\n",
              "      <td>1.0</td>\n",
              "      <td>1950.0</td>\n",
              "      <td>421.0</td>\n",
              "      <td>103000</td>\n",
              "    </tr>\n",
              "    <tr>\n",
              "      <th>76</th>\n",
              "      <td>900.0</td>\n",
              "      <td>2.0</td>\n",
              "      <td>1.0</td>\n",
              "      <td>1947.0</td>\n",
              "      <td>1052.0</td>\n",
              "      <td>79000</td>\n",
              "    </tr>\n",
              "    <tr>\n",
              "      <th>77</th>\n",
              "      <td>900.0</td>\n",
              "      <td>2.0</td>\n",
              "      <td>1.0</td>\n",
              "      <td>1948.0</td>\n",
              "      <td>546.0</td>\n",
              "      <td>119750</td>\n",
              "    </tr>\n",
              "    <tr>\n",
              "      <th>80</th>\n",
              "      <td>856.0</td>\n",
              "      <td>1.0</td>\n",
              "      <td>1.5</td>\n",
              "      <td>2007.0</td>\n",
              "      <td>452.0</td>\n",
              "      <td>217500</td>\n",
              "    </tr>\n",
              "    <tr>\n",
              "      <th>82</th>\n",
              "      <td>1340.0</td>\n",
              "      <td>3.0</td>\n",
              "      <td>2.0</td>\n",
              "      <td>1916.0</td>\n",
              "      <td>400.0</td>\n",
              "      <td>339000</td>\n",
              "    </tr>\n",
              "    <tr>\n",
              "      <th>88</th>\n",
              "      <td>1360.0</td>\n",
              "      <td>3.0</td>\n",
              "      <td>2.0</td>\n",
              "      <td>1950.0</td>\n",
              "      <td>398.0</td>\n",
              "      <td>319000</td>\n",
              "    </tr>\n",
              "    <tr>\n",
              "      <th>90</th>\n",
              "      <td>1587.0</td>\n",
              "      <td>3.0</td>\n",
              "      <td>2.0</td>\n",
              "      <td>2002.0</td>\n",
              "      <td>829.0</td>\n",
              "      <td>485000</td>\n",
              "    </tr>\n",
              "    <tr>\n",
              "      <th>92</th>\n",
              "      <td>1300.0</td>\n",
              "      <td>2.0</td>\n",
              "      <td>2.0</td>\n",
              "      <td>2000.0</td>\n",
              "      <td>553.0</td>\n",
              "      <td>415000</td>\n",
              "    </tr>\n",
              "    <tr>\n",
              "      <th>95</th>\n",
              "      <td>1100.0</td>\n",
              "      <td>2.0</td>\n",
              "      <td>1.0</td>\n",
              "      <td>1950.0</td>\n",
              "      <td>415.0</td>\n",
              "      <td>125000</td>\n",
              "    </tr>\n",
              "    <tr>\n",
              "      <th>96</th>\n",
              "      <td>725.0</td>\n",
              "      <td>1.0</td>\n",
              "      <td>1.0</td>\n",
              "      <td>1916.0</td>\n",
              "      <td>264.0</td>\n",
              "      <td>159900</td>\n",
              "    </tr>\n",
              "    <tr>\n",
              "      <th>99</th>\n",
              "      <td>1807.0</td>\n",
              "      <td>2.0</td>\n",
              "      <td>2.5</td>\n",
              "      <td>1910.0</td>\n",
              "      <td>465.0</td>\n",
              "      <td>530000</td>\n",
              "    </tr>\n",
              "  </tbody>\n",
              "</table>\n",
              "</div>\n",
              "      <button class=\"colab-df-convert\" onclick=\"convertToInteractive('df-8de43746-b69b-4450-b60f-63ab4e1cf38c')\"\n",
              "              title=\"Convert this dataframe to an interactive table.\"\n",
              "              style=\"display:none;\">\n",
              "        \n",
              "  <svg xmlns=\"http://www.w3.org/2000/svg\" height=\"24px\"viewBox=\"0 0 24 24\"\n",
              "       width=\"24px\">\n",
              "    <path d=\"M0 0h24v24H0V0z\" fill=\"none\"/>\n",
              "    <path d=\"M18.56 5.44l.94 2.06.94-2.06 2.06-.94-2.06-.94-.94-2.06-.94 2.06-2.06.94zm-11 1L8.5 8.5l.94-2.06 2.06-.94-2.06-.94L8.5 2.5l-.94 2.06-2.06.94zm10 10l.94 2.06.94-2.06 2.06-.94-2.06-.94-.94-2.06-.94 2.06-2.06.94z\"/><path d=\"M17.41 7.96l-1.37-1.37c-.4-.4-.92-.59-1.43-.59-.52 0-1.04.2-1.43.59L10.3 9.45l-7.72 7.72c-.78.78-.78 2.05 0 2.83L4 21.41c.39.39.9.59 1.41.59.51 0 1.02-.2 1.41-.59l7.78-7.78 2.81-2.81c.8-.78.8-2.07 0-2.86zM5.41 20L4 18.59l7.72-7.72 1.47 1.35L5.41 20z\"/>\n",
              "  </svg>\n",
              "      </button>\n",
              "      \n",
              "  <style>\n",
              "    .colab-df-container {\n",
              "      display:flex;\n",
              "      flex-wrap:wrap;\n",
              "      gap: 12px;\n",
              "    }\n",
              "\n",
              "    .colab-df-convert {\n",
              "      background-color: #E8F0FE;\n",
              "      border: none;\n",
              "      border-radius: 50%;\n",
              "      cursor: pointer;\n",
              "      display: none;\n",
              "      fill: #1967D2;\n",
              "      height: 32px;\n",
              "      padding: 0 0 0 0;\n",
              "      width: 32px;\n",
              "    }\n",
              "\n",
              "    .colab-df-convert:hover {\n",
              "      background-color: #E2EBFA;\n",
              "      box-shadow: 0px 1px 2px rgba(60, 64, 67, 0.3), 0px 1px 3px 1px rgba(60, 64, 67, 0.15);\n",
              "      fill: #174EA6;\n",
              "    }\n",
              "\n",
              "    [theme=dark] .colab-df-convert {\n",
              "      background-color: #3B4455;\n",
              "      fill: #D2E3FC;\n",
              "    }\n",
              "\n",
              "    [theme=dark] .colab-df-convert:hover {\n",
              "      background-color: #434B5C;\n",
              "      box-shadow: 0px 1px 3px 1px rgba(0, 0, 0, 0.15);\n",
              "      filter: drop-shadow(0px 1px 2px rgba(0, 0, 0, 0.3));\n",
              "      fill: #FFFFFF;\n",
              "    }\n",
              "  </style>\n",
              "\n",
              "      <script>\n",
              "        const buttonEl =\n",
              "          document.querySelector('#df-8de43746-b69b-4450-b60f-63ab4e1cf38c button.colab-df-convert');\n",
              "        buttonEl.style.display =\n",
              "          google.colab.kernel.accessAllowed ? 'block' : 'none';\n",
              "\n",
              "        async function convertToInteractive(key) {\n",
              "          const element = document.querySelector('#df-8de43746-b69b-4450-b60f-63ab4e1cf38c');\n",
              "          const dataTable =\n",
              "            await google.colab.kernel.invokeFunction('convertToInteractive',\n",
              "                                                     [key], {});\n",
              "          if (!dataTable) return;\n",
              "\n",
              "          const docLinkHtml = 'Like what you see? Visit the ' +\n",
              "            '<a target=\"_blank\" href=https://colab.research.google.com/notebooks/data_table.ipynb>data table notebook</a>'\n",
              "            + ' to learn more about interactive tables.';\n",
              "          element.innerHTML = '';\n",
              "          dataTable['output_type'] = 'display_data';\n",
              "          await google.colab.output.renderOutput(dataTable, element);\n",
              "          const docLink = document.createElement('div');\n",
              "          docLink.innerHTML = docLinkHtml;\n",
              "          element.appendChild(docLink);\n",
              "        }\n",
              "      </script>\n",
              "    </div>\n",
              "  </div>\n",
              "  "
            ]
          },
          "metadata": {},
          "execution_count": 3
        }
      ]
    },
    {
      "cell_type": "code",
      "source": [
        "\n",
        "# Normalize the input variables by dividing each column by the maximum values of that column.\n",
        "X = data.drop(\"PRICE\",axis=1)\n",
        "for i in X.columns:\n",
        "    X[i] = (X[i] - np.mean(X[i])) / np.std(X[i])\n",
        "Y = (data[\"PRICE\"] - np.mean(data[\"PRICE\"])) / np.std(data[\"PRICE\"])\n",
        "\n",
        "\"\"\"sklearn\"\"\"\n",
        "from sklearn.linear_model import LinearRegression\n",
        "linreg = LinearRegression()\n",
        "linreg.fit(X, Y)\n",
        "print(linreg.intercept_)\n",
        "print(linreg.coef_)"
      ],
      "metadata": {
        "colab": {
          "base_uri": "https://localhost:8080/"
        },
        "id": "yjHc-CvrIPAl",
        "outputId": "bc088cd4-6c1f-4d95-d8fa-ce7a3a510f9a"
      },
      "execution_count": 15,
      "outputs": [
        {
          "output_type": "stream",
          "name": "stdout",
          "text": [
            "-1.0893666662929732e-16\n",
            "[ 0.5331582  -0.21009171  0.42902146  0.01638929  0.16891623]\n"
          ]
        }
      ]
    },
    {
      "cell_type": "code",
      "source": [
        "Y"
      ],
      "metadata": {
        "colab": {
          "base_uri": "https://localhost:8080/"
        },
        "id": "E-vA_0Jtp5KD",
        "outputId": "51754d6e-4bb2-4bf0-ea0b-b2e68cc3e180"
      },
      "execution_count": 16,
      "outputs": [
        {
          "output_type": "execute_result",
          "data": {
            "text/plain": [
              "0     1.527598\n",
              "1     3.918292\n",
              "3     0.039772\n",
              "11   -1.009336\n",
              "12   -0.061960\n",
              "13    0.039772\n",
              "17    0.739177\n",
              "18   -0.952112\n",
              "22    0.192370\n",
              "23    0.516639\n",
              "24    0.643804\n",
              "25    0.898133\n",
              "27   -0.056237\n",
              "30   -0.888530\n",
              "32    0.675595\n",
              "34   -0.246348\n",
              "35   -0.214557\n",
              "36   -0.373513\n",
              "39    0.898133\n",
              "40    0.453057\n",
              "42    0.891775\n",
              "43   -0.468886\n",
              "44    1.336851\n",
              "45   -0.977545\n",
              "46   -0.716857\n",
              "49    0.103354\n",
              "50   -1.104709\n",
              "51    0.065205\n",
              "52   -0.056237\n",
              "53    0.446699\n",
              "54   -1.002978\n",
              "55   -0.850380\n",
              "56    0.166937\n",
              "58   -0.882807\n",
              "61   -0.532469\n",
              "66   -1.327883\n",
              "69    1.375000\n",
              "71   -1.308173\n",
              "76   -1.460770\n",
              "77   -1.201672\n",
              "80   -0.580155\n",
              "82    0.192370\n",
              "88    0.065205\n",
              "90    1.120671\n",
              "92    0.675595\n",
              "95   -1.168292\n",
              "96   -0.946389\n",
              "99    1.406791\n",
              "Name: PRICE, dtype: float64"
            ]
          },
          "metadata": {},
          "execution_count": 16
        }
      ]
    },
    {
      "cell_type": "code",
      "source": [
        "linreg.predict(X)"
      ],
      "metadata": {
        "colab": {
          "base_uri": "https://localhost:8080/"
        },
        "id": "UYawf8zop9Eu",
        "outputId": "d02ec5f1-4a8e-422b-979a-30bc779bc0c9"
      },
      "execution_count": 17,
      "outputs": [
        {
          "output_type": "execute_result",
          "data": {
            "text/plain": [
              "array([ 1.37845101,  2.37747106,  0.41234906, -1.19471639,  0.41601302,\n",
              "        0.14813827,  1.275814  , -0.96249841,  0.39765551,  0.45249641,\n",
              "        0.50883444,  0.598687  ,  0.23970488, -0.98577865,  0.50569692,\n",
              "       -0.45238336,  1.25950338, -0.7112728 ,  0.84252484,  1.06039269,\n",
              "        0.3817262 , -1.18934262,  1.60437644, -0.83344367, -0.81876205,\n",
              "       -0.0466526 , -0.82777556, -0.0592257 ,  0.338019  ,  0.34262913,\n",
              "       -1.20685057, -0.96861028, -0.91441818, -0.21998515, -0.72163351,\n",
              "       -0.14185701,  0.50880563, -0.96415232, -0.59350272, -0.98749387,\n",
              "       -0.38931385, -0.08852794, -0.04666909,  0.61665569,  0.33830733,\n",
              "       -0.82296091, -1.13661225,  1.28018757])"
            ]
          },
          "metadata": {},
          "execution_count": 17
        }
      ]
    },
    {
      "cell_type": "code",
      "source": [
        "\"\"\"\n",
        "the explicit formula (which you should derive)\n",
        "\"\"\"\n",
        "# Initiate the theta values.\n",
        "theta = np.array([0]*len(X.columns))\n",
        "\n",
        "m = len(data)\n",
        "# Define the hypothesis function\n",
        "def hypothesis(theta, X):\n",
        "    return theta*X\n",
        "\n",
        "def computeCost(X, y, theta,m):\n",
        "    y1 = hypothesis(theta, X)\n",
        "    y1=np.sum(y1, axis=1)\n",
        "    return sum(np.sqrt((y1-y)**2))/(2*m)\n",
        "\n",
        "def gradientDescent(X, y, theta, alpha, i):\n",
        "    J = []  #cost function in each iterations\n",
        "    k = 0\n",
        "    while k < i:        \n",
        "        y1 = hypothesis(theta, X)\n",
        "        y1 = np.sum(y1, axis=1)\n",
        "        for c in range(0, len(X.columns)):\n",
        "            theta[c] = theta[c] - alpha*(sum((y1-y)*X.iloc[:,c])/len(X))\n",
        "        j = computeCost(X, y, theta,m)\n",
        "        J.append(j)\n",
        "        k += 1\n",
        "    return J, j, theta\n",
        "J, j, theta = gradientDescent(X, Y, theta, 0.05, 100)\n",
        "y_hat = hypothesis(theta, X)\n",
        "y_hat = np.sum(y_hat, axis=1)\n",
        "y_hat"
      ],
      "metadata": {
        "colab": {
          "base_uri": "https://localhost:8080/"
        },
        "id": "Vju5rkKQLW8W",
        "outputId": "19caf135-ac4f-4f78-954c-ccc2c2a662a2"
      },
      "execution_count": 5,
      "outputs": [
        {
          "output_type": "execute_result",
          "data": {
            "text/plain": [
              "0     205579.862881\n",
              "1     349315.710413\n",
              "3      62327.759264\n",
              "11   -185422.657670\n",
              "12     64180.952335\n",
              "13     41855.545655\n",
              "17    193067.196799\n",
              "18   -168752.577085\n",
              "22     71860.469831\n",
              "23     64098.440830\n",
              "24     87848.469274\n",
              "25    100310.289305\n",
              "27     35911.325899\n",
              "30   -149621.109105\n",
              "32     80203.034782\n",
              "34    -74355.896092\n",
              "35    171555.562418\n",
              "36   -115107.788881\n",
              "39    132058.099269\n",
              "40    162733.794525\n",
              "42     56258.742728\n",
              "43   -180457.537421\n",
              "44    253964.122345\n",
              "45   -142653.815831\n",
              "46   -133350.530373\n",
              "49     -1123.648165\n",
              "50   -119984.119561\n",
              "51     -8225.803996\n",
              "52     58388.893800\n",
              "53     67940.381177\n",
              "54   -181318.519486\n",
              "55   -151517.725503\n",
              "56   -143075.948370\n",
              "58    -36186.678465\n",
              "61   -115759.138660\n",
              "66    -13459.734533\n",
              "69     76429.106576\n",
              "71   -160324.127915\n",
              "76    -83195.841443\n",
              "77   -146285.524269\n",
              "80    -59918.821023\n",
              "82     -1818.299346\n",
              "88     11031.333343\n",
              "90    117415.094538\n",
              "92     60735.318482\n",
              "95   -129161.494428\n",
              "96   -193912.884711\n",
              "99    169920.715862\n",
              "dtype: float64"
            ]
          },
          "metadata": {},
          "execution_count": 5
        }
      ]
    },
    {
      "cell_type": "code",
      "source": [
        "import torch\n",
        "features=torch.from_numpy(X.values.astype(numpy.float32))\n",
        "labels=torch.from_numpy(Y.values.astype(numpy.float32).reshape(-1,1))\n",
        "print(\"features.shape : \" , features.shape)\n",
        "print(\"labels.shape : \" , labels.shape)\n",
        "print(\"cuda available: {:}\".format(torch.cuda.is_available()))\n",
        "features = features.cuda() if torch.cuda.is_available() else features\n",
        "labels = labels.cuda() if torch.cuda.is_available() else labels"
      ],
      "metadata": {
        "colab": {
          "base_uri": "https://localhost:8080/"
        },
        "id": "SmtYhN0gt_17",
        "outputId": "084083fc-0ba0-49d5-ea9c-494a6a04ccf7"
      },
      "execution_count": 34,
      "outputs": [
        {
          "output_type": "stream",
          "name": "stdout",
          "text": [
            "features.shape :  torch.Size([48, 5])\n",
            "labels.shape :  torch.Size([48, 1])\n",
            "cuda available: False\n"
          ]
        }
      ]
    },
    {
      "cell_type": "code",
      "source": [
        "\n",
        "learningRate=0.075\n",
        "class linearRegression(torch.nn.Module):\n",
        "    def __init__(self, inputSize=1, outputSize=1,SEED=0): #default to one-dimensional feature and response\n",
        "        super().__init__() #run init of torch.nn.Module\n",
        "        if SEED is not None:\n",
        "          torch.manual_seed(SEED)\n",
        "        self.linear = torch.nn.Linear(inputSize,outputSize)\n",
        "        if torch.cuda.is_available():\n",
        "          self=self.cuda()\n",
        "\n",
        "    def forward(self, x):\n",
        "        out=self.linear(x)\n",
        "        return out\n",
        "\n",
        "model=linearRegression(inputSize = 5 , outputSize = 1)\n",
        "\n",
        "Loss = torch.nn.MSELoss() \n",
        "optimizer = torch.optim.SGD(model.parameters(), lr=learningRate)"
      ],
      "metadata": {
        "id": "Yv7quJDauO0t"
      },
      "execution_count": 30,
      "outputs": []
    },
    {
      "cell_type": "code",
      "source": [
        "MAX_iter = 100\n",
        "starttime=time.time()\n",
        "for itr in range(MAX_iter):\n",
        "\n",
        "    # Clear gradient buffers because we don't want any gradient from previous epoch to carry forward, dont want to cummulate gradients\n",
        "    optimizer.zero_grad()\n",
        "\n",
        "    # get output from the model, given the inputs\n",
        "    outputs = model(features)\n",
        "\n",
        "    # get loss for the predicted output\n",
        "    lossvalue = Loss(outputs, labels)\n",
        "\n",
        "    # get gradients w.r.t to parameters\n",
        "    lossvalue.backward()\n",
        "    #print(model.linear.weight.grad.item(),model.linear.bias.grad.item())\n",
        "\n",
        "    # update parameters\n",
        "    optimizer.step()\n",
        "    if itr % 10 ==0:\n",
        "      print(f\"iteration {itr}: loss={lossvalue.item()}\")\n",
        "      \n",
        "endtime=time.time()\n",
        "print(\"\\nexecution time: {0:.5f} seconds\".format(endtime-starttime))"
      ],
      "metadata": {
        "colab": {
          "base_uri": "https://localhost:8080/"
        },
        "id": "JA4DQkekuSYK",
        "outputId": "a0d51379-65b5-40c2-8f32-39226e797b9e"
      },
      "execution_count": 31,
      "outputs": [
        {
          "output_type": "stream",
          "name": "stdout",
          "text": [
            "iteration 0: loss=2.0738909244537354\n",
            "iteration 10: loss=0.33176565170288086\n",
            "iteration 20: loss=0.28626981377601624\n",
            "iteration 30: loss=0.2725318372249603\n",
            "iteration 40: loss=0.2674623429775238\n",
            "iteration 50: loss=0.26554083824157715\n",
            "iteration 60: loss=0.264792263507843\n",
            "iteration 70: loss=0.2644880414009094\n",
            "iteration 80: loss=0.26435670256614685\n",
            "iteration 90: loss=0.264295369386673\n",
            "\n",
            "execution time: 0.03471 seconds\n"
          ]
        }
      ]
    },
    {
      "cell_type": "code",
      "source": [
        "(m_pt,b_pt)=(model.linear.weight,model.linear.bias)\n",
        "print((m_pt,b_pt))"
      ],
      "metadata": {
        "colab": {
          "base_uri": "https://localhost:8080/"
        },
        "id": "VqIVup_uvOH-",
        "outputId": "1c4f0466-3acb-4d47-d139-7194ca40484d"
      },
      "execution_count": 33,
      "outputs": [
        {
          "output_type": "stream",
          "name": "stdout",
          "text": [
            "(Parameter containing:\n",
            "tensor([[ 0.5197, -0.2014,  0.4348,  0.0199,  0.1687]], requires_grad=True), Parameter containing:\n",
            "tensor([1.6413e-08], requires_grad=True))\n"
          ]
        }
      ]
    },
    {
      "cell_type": "code",
      "source": [
        "def textbox(txt,fname=None):\n",
        "    plt.figure(figsize=(1,1))\n",
        "    plt.gca().add_artist(offsetbox.AnchoredText(\"\\n\".join(txt), loc=\"center\",prop=dict(size=30)))\n",
        "    plt.axis('off')\n",
        "    if fname is not None:\n",
        "        saver(fname)\n",
        "    plt.show()\n",
        "    plt.close()\n",
        "\n",
        "ans = []\n",
        "for i in X.columns:\n",
        "  features= X.drop(i,axis=1)\n",
        "  features=torch.from_numpy(features.values.astype(numpy.float32))\n",
        "  labels=torch.from_numpy(Y.values.astype(numpy.float32).reshape(-1,1))\n",
        "  # print(\"features.shape : \" , features.shape)\n",
        "  # print(\"labels.shape : \" , labels.shape)\n",
        "\n",
        "  learningRate=0.075\n",
        "  class linearRegression(torch.nn.Module):\n",
        "      def __init__(self, inputSize=1, outputSize=1,SEED=0): #default to one-dimensional feature and response\n",
        "          super().__init__() #run init of torch.nn.Module\n",
        "          if SEED is not None:\n",
        "            torch.manual_seed(SEED)\n",
        "          self.linear = torch.nn.Linear(inputSize,outputSize)\n",
        "          if torch.cuda.is_available():\n",
        "            self=self.cuda()\n",
        "\n",
        "      def forward(self, x):\n",
        "          out=self.linear(x)\n",
        "          return out\n",
        "\n",
        "  model=linearRegression(inputSize = features.shape[1] , outputSize = labels.shape[1])\n",
        "\n",
        "  Loss = torch.nn.MSELoss() \n",
        "  optimizer = torch.optim.SGD(model.parameters(), lr=learningRate)\n",
        "  MAX_iter = 100\n",
        "  starttime=time.time()\n",
        "  for itr in range(MAX_iter):\n",
        "\n",
        "      # Clear gradient buffers because we don't want any gradient from previous epoch to carry forward, dont want to cummulate gradients\n",
        "      optimizer.zero_grad()\n",
        "\n",
        "      # get output from the model, given the inputs\n",
        "      outputs = model(features)\n",
        "\n",
        "      # get loss for the predicted output\n",
        "      lossvalue = Loss(outputs, labels)\n",
        "\n",
        "      # get gradients w.r.t to parameters\n",
        "      lossvalue.backward()\n",
        "      #print(model.linear.weight.grad.item(),model.linear.bias.grad.item())\n",
        "\n",
        "      # update parameters\n",
        "      optimizer.step()\n",
        "      # if itr % 10 ==0:\n",
        "      #   print(f\"iteration {itr}: loss={lossvalue.item()}\")\n",
        "  endtime=time.time()\n",
        "  # print(\"\\nexecution time: {0:.5f} seconds\".format(endtime-starttime))\n",
        "  ans.append((lossvalue.item(),i))\n",
        "ans.sort()\n",
        "# print(ans)\n",
        "text=[]\n",
        "text.append(\"MSE:\")\n",
        "for i in range(len(ans)-1,-1,-1):\n",
        "  text.append(f\"Feature Rank : {len(ans) - i} is {ans[i][1]} , without which the loss is {ans[i][0]}\")\n",
        "textbox(text)"
      ],
      "metadata": {
        "colab": {
          "base_uri": "https://localhost:8080/",
          "height": 252
        },
        "id": "8-Ilyt35v0Kz",
        "outputId": "e579f591-a1f0-4e17-ccf4-03e107474fe9"
      },
      "execution_count": 51,
      "outputs": [
        {
          "output_type": "display_data",
          "data": {
            "text/plain": [
              "<Figure size 72x72 with 1 Axes>"
            ],
            "image/png": "[encoded data removed]"
          },
          "metadata": {
            "needs_background": "light"
          }
        }
      ]
    },
    {
      "cell_type": "code",
      "source": [
        "def textbox(txt,fname=None):\n",
        "    plt.figure(figsize=(1,1))\n",
        "    plt.gca().add_artist(offsetbox.AnchoredText(\"\\n\".join(txt), loc=\"center\",prop=dict(size=30)))\n",
        "    plt.axis('off')\n",
        "    if fname is not None:\n",
        "        saver(fname)\n",
        "    plt.show()\n",
        "    plt.close()\n",
        "\n",
        "ans = []\n",
        "for i in X.columns:\n",
        "  features= X.drop(i,axis=1)\n",
        "  features=torch.from_numpy(features.values.astype(numpy.float32))\n",
        "  labels=torch.from_numpy(Y.values.astype(numpy.float32).reshape(-1,1))\n",
        "  # print(\"features.shape : \" , features.shape)\n",
        "  # print(\"labels.shape : \" , labels.shape)\n",
        "\n",
        "  learningRate=0.075\n",
        "  class linearRegression(torch.nn.Module):\n",
        "      def __init__(self, inputSize=1, outputSize=1,SEED=0): #default to one-dimensional feature and response\n",
        "          super().__init__() #run init of torch.nn.Module\n",
        "          if SEED is not None:\n",
        "            torch.manual_seed(SEED)\n",
        "          self.linear = torch.nn.Linear(inputSize,outputSize)\n",
        "          if torch.cuda.is_available():\n",
        "            self=self.cuda()\n",
        "\n",
        "      def forward(self, x):\n",
        "          out=self.linear(x)\n",
        "          return out\n",
        "\n",
        "  model=linearRegression(inputSize = features.shape[1] , outputSize = labels.shape[1])\n",
        "\n",
        "  Loss = torch.nn.L1Loss() \n",
        "  optimizer = torch.optim.SGD(model.parameters(), lr=learningRate)\n",
        "  MAX_iter = 100\n",
        "  starttime=time.time()\n",
        "  for itr in range(MAX_iter):\n",
        "\n",
        "      # Clear gradient buffers because we don't want any gradient from previous epoch to carry forward, dont want to cummulate gradients\n",
        "      optimizer.zero_grad()\n",
        "\n",
        "      # get output from the model, given the inputs\n",
        "      outputs = model(features)\n",
        "\n",
        "      # get loss for the predicted output\n",
        "      lossvalue = Loss(outputs, labels)\n",
        "\n",
        "      # get gradients w.r.t to parameters\n",
        "      lossvalue.backward()\n",
        "      #print(model.linear.weight.grad.item(),model.linear.bias.grad.item())\n",
        "\n",
        "      # update parameters\n",
        "      optimizer.step()\n",
        "      # if itr % 10 ==0:\n",
        "      #   print(f\"iteration {itr}: loss={lossvalue.item()}\")\n",
        "  endtime=time.time()\n",
        "  # print(\"\\nexecution time: {0:.5f} seconds\".format(endtime-starttime))\n",
        "  ans.append((lossvalue.item(),i))\n",
        "ans.sort()\n",
        "# print(ans)\n",
        "text=[]\n",
        "text.append(\"MAE:\")\n",
        "for i in range(len(ans)-1,-1,-1):\n",
        "  text.append(f\"Feature Rank : {len(ans) - i} is {ans[i][1]} , without which the loss is {ans[i][0]}\")\n",
        "textbox(text)"
      ],
      "metadata": {
        "colab": {
          "base_uri": "https://localhost:8080/",
          "height": 252
        },
        "id": "t3mfnpC3yMxP",
        "outputId": "828ed8ff-7eb2-43e5-8401-2ec84dfd9d70"
      },
      "execution_count": 52,
      "outputs": [
        {
          "output_type": "display_data",
          "data": {
            "text/plain": [
              "<Figure size 72x72 with 1 Axes>"
            ],
            "image/png": "[encoded data removed]"
          },
          "metadata": {
            "needs_background": "light"
          }
        }
      ]
    },
    {
      "cell_type": "markdown",
      "metadata": {
        "id": "zPaxaH3Uy214"
      },
      "source": [
        "# **Logistic Regression** #"
      ]
    },
    {
      "cell_type": "markdown",
      "metadata": {
        "id": "o9oq8jgzy214"
      },
      "source": [
        "**Transition Layer Width** Take $N=200$ Gaussian points on the line centered at 0 and with mean 1.  Assign label 1 to the ones to the right of the origin and assign label 0 to the ones on the left of the origin.  Carry out the following with PyTorch\n",
        "* Carry out logistic regression, and note the width of the transition layer.\n",
        "* Flip 5 points on each side of the origin to the 'wrong' label and note the width of the transition layer\n",
        "* Flip 5 more points on each side of the origin to the 'wrong' label and note the width of the transition layer\n",
        "* Repeat this for 15, 20, 25, 30, 35 points and plot the width of the transition layer as a function of the number of points with the 'wrong' label."
      ]
    },
    {
      "cell_type": "markdown",
      "metadata": {
        "id": "JF56uUSqQ6Rm"
      },
      "source": [
        "**Biased Data** Regress property type (single family residential or not) on square footage and price for both Evanston and Champaign.  Compare performances.  Also note biases in datasets (Champaign may have proportionally more single-family residences than Evanston)."
      ]
    },
    {
      "cell_type": "code",
      "metadata": {
        "id": "NHjerdqeQ93f"
      },
      "source": [],
      "execution_count": null,
      "outputs": []
    },
    {
      "cell_type": "markdown",
      "metadata": {
        "id": "NPL6AIJWk3mC"
      },
      "source": [
        "\n",
        "# **Stochastic Gradient Descent** #"
      ]
    },
    {
      "cell_type": "markdown",
      "metadata": {
        "id": "KTBIubrjk5vJ"
      },
      "source": [
        "**Batch Size** Consider N data points, and a batch algorithm with batch size B.  Let E be the expected epoch size; i.e., the expected number of iterations I needed for all data points to be in the first I batches.\n",
        "* Fix N=100 and compute (and plot) E for B=10,25,50\n",
        "* Fix N=200 and compute (and plot) E for B=10,25,50,100"
      ]
    },
    {
      "cell_type": "markdown",
      "metadata": {
        "id": "veW1DfQ5t4Rb"
      },
      "source": [
        "**Multiple Minima** Define\n",
        "$$f(x)=\\sin(x)$$\n",
        "starting at $x=0$.  Carry out gradient descent to minimize $f$.\n",
        "* Construct a learning schedule which leads to the minimum at $x=3\\pi/2$\n",
        "* Construct a learning schedule which leads to the minimum at $x=-\\pi/2$"
      ]
    },
    {
      "cell_type": "code",
      "metadata": {
        "id": "CThNORddXZEP"
      },
      "source": [],
      "execution_count": null,
      "outputs": []
    },
    {
      "cell_type": "markdown",
      "metadata": {
        "id": "wC5Bfl6-XXJu"
      },
      "source": [
        "\n",
        "\n",
        "```\n",
        "# This is formatted as code\n",
        "```\n",
        "\n",
        "# **Backpropagation** #"
      ]
    },
    {
      "cell_type": "markdown",
      "metadata": {
        "id": "kjszNQ0XR092"
      },
      "source": [
        "**Numerical Backpropagation** Define\n",
        "$\\phi_n(x)= \\cos(2^nx)$ for $x\\in R$ and $n\\in \\{1,2,3\\}$.  Set $x=5$ and define\n",
        "$$f_5(m_1,m_2,m_3)= \\exp\\left[\\pi \\phi_3(m_3\\phi_2(m_2\\phi_1(m_1x)))\\right]$$\n",
        "for $(m_1,b_1.m_2,b_2.m_3,b_3)\\in R^6$.\n",
        "* Numerically compute $\\lim_{\\varepsilon\\to 0}\\{f_5(10,9,8+\\varepsilon)-f_5(10,9,8)\\}/\\varepsilon$\n",
        "* Compute $\\frac{\\partial f_5}{\\partial m_3}(10,9,8)$ using pytorch\n",
        "* Numerically compute $\\lim_{\\varepsilon\\to 0}\\{f_5(10,9+\\varepsilon,8)-f_5(10,9,8)\\}/\\varepsilon$\n",
        "* Compute $\\frac{\\partial f_5}{\\partial m_2}(10,9,8)$ using pytorch\n",
        "* Numerically compute $\\lim_{\\varepsilon\\to 0}\\{f_5(10+\\varepsilon,9,8)-f_5(10,9,8)\\}/\\varepsilon$\n",
        "* Compute $\\frac{\\partial f_5}{\\partial m_1}(10,9,8)$ using pytorch."
      ]
    },
    {
      "cell_type": "markdown",
      "metadata": {
        "id": "zMB6N2CdGORw"
      },
      "source": [
        "**Numerical Backpropagation with bias** Define\n",
        "$\\phi_n(x)= \\cos(2^nx)$ for $x\\in R$ and $n\\in \\{1,2,3\\}$.  Set $x=5$ and define\n",
        "$$f_5(m_1,b_1,m_2,b_2,m_3,b_3)= \\exp\\left[\\pi \\phi_3(m_3\\phi_2(m_2\\phi_1(m_1x+b_1)+b_2)+b_3)\\right]$$\n",
        "for $(m_1,b_1.m_2,b_2.m_3,b_3)\\in R^6$.\n",
        "* Numerically compute $\\lim_{\\varepsilon\\to 0}\\{f_5(10,1,9,2,8+\\varepsilon,3)-f_5(10,1,9,2,8,3)\\}/\\varepsilon$\n",
        "* Compute $\\frac{\\partial f_5}{\\partial m_3}(10,1,9,2,8,3)$ using pytorch\n",
        "* Numerically compute $\\lim_{\\varepsilon\\to 0}\\{f_5(10,1,9,2,8,3+\\varepsilon)-f_5(10,1,9,2,8,3)\\}/\\varepsilon$\n",
        "* Compute $\\frac{\\partial f_5}{\\partial b_3}(10,1,9,2,8,3)$ using pytorch\n",
        "* Numerically compute $\\lim_{\\varepsilon\\to 0}\\{f_5(10,1,9+\\varepsilon,2,8,3)-f_5(10,1,9,2,8,3)\\}/\\varepsilon$\n",
        "* Compute $\\frac{\\partial f_5}{\\partial m_2}(10,1,9,2,8,3)$ using pytorch\n",
        "* Numerically compute $\\lim_{\\varepsilon\\to 0}\\{f_5(10,1,9,2+\\varepsilon,8,3)-f_5(10,1,9,2,8,3)\\}/\\varepsilon$\n",
        "* Compute $\\frac{\\partial f_5}{\\partial b_2}(10,1,9,2,8,3)$ using pytorch\n",
        "* Numerically compute $\\lim_{\\varepsilon\\to 0}\\{f_5(10,+\\varepsilon,1,9,2,8,3)-f_5(10,1,9,2,8,3)\\}/\\varepsilon$\n",
        "* Compute $\\frac{\\partial f_5}{\\partial m_1}(10,1,9,2,8,3)$ using pytorch\n",
        "* Numerically compute $\\lim_{\\varepsilon\\to 0}\\{f_5(10,1+\\varepsilon,9,2,8,3)-f_5(10,1,9,2,8,3)\\}/\\varepsilon$\n",
        "* Compute $\\frac{\\partial f_5}{\\partial b_1}(10,1,9,2,8,3)$ using pytorch"
      ]
    },
    {
      "cell_type": "markdown",
      "metadata": {
        "id": "c97ZDKvIYBqn"
      },
      "source": [
        "**One-dimensional with bias** Define $\\phi_n(x)=\\cos(2^nx)$ for $x\\in R$ and $n\\in\\{1,2,3\\}$.  Define\n",
        "$$f_x(m_1,b_1,m_2,b_2,m_3,b_3)= \\exp\\left[\\pi \\phi_3(m_3\\phi_2(m_2\\phi_1(m_1x+b_1)+b_2)+b_3)\\right]$$\n",
        "and set $x=5$.\n",
        "* Explicitly write out the backpropagation formula to compute the sensitivity of $f_5$ with respect to the $m_n$'s and $b_n$'s at \n",
        "$$ (m_1,b_1,m_2,b_2,m_3,b_3)=(10,11,9,19,8,18)$$\n",
        "* Use pytorch to check your answers"
      ]
    },
    {
      "cell_type": "markdown",
      "metadata": {
        "id": "jlPLlVDHmUXu"
      },
      "source": [
        "**Multidimensional** Define $\\phi_n(x)=\\cos(2^nx)$ for $x\\in R$ and $n\\in\\{1,2,3\\}$ and define $L(x)=\\exp(-5x)$.  For $x\\in R^4$, $M^{(1)}\\in R^{3\\times 4}$, $B^{(1)}\\in R^3$, $M^{(2)}\\in R^{2\\times 3}$, $B^{(2)}\\in R^2$, and $M^{(3)}\\in R^{2\\times 1}$ and $B^{(3)}\\in R$, define\n",
        "$$f_x(M^{(1)},B^{(1)},M^{(2)},B^{(2)},M^{(3)},B^{(3)})= L\\left(M^{(3)}\\phi_3\\left(M^{(2)}\\phi_2\\left(M^{(1)}x+B^{(1)}\\right)+B^{(2)}\\right)+B^{(3)}\\right)$$\n",
        "* Set $$x=\\begin{pmatrix} .1 \\\\ .2 \\\\ .3 \\\\ .4\\end{pmatrix}$$\n",
        "and use the backpropagation formula to explicitly compute the derivatives of $f_x$ with respect to the components of the $M^{(n)}$'s and $B^{(n)}$'s at\n",
        "$$ M^{(1)}=\\begin{pmatrix} -0.1& -0.2 & -0.3 & -0.4 \\\\ -0.5 & -0.6 & -0.7 & -0.8 \\\\ -0.9 & -1.1 & -1.2 & -1.3\\end{pmatrix}$$\n",
        "$$B^{(1)}=\\begin{pmatrix} -1.4 \\\\ -1.5 \\\\ -1.6  \\end{pmatrix}$$\n",
        "$$ M^{(2)}=\\begin{pmatrix} 2.0 & 2.1 & 2.2 \\\\ 2.3 & 2.4 & 2.5 \\end{pmatrix}$$\n",
        "$$ B^{(2)} = \\begin{pmatrix} 2.6 \\\\ 2.7 \\end{pmatrix} $$\n",
        "$$ M^{(3)} = \\begin{pmatrix} -3.1 & -3.2 \\end{pmatrix} $$\n",
        "$$B^{(3)} = -3.3$$\n",
        "* Use pytorch to check your answers"
      ]
    },
    {
      "cell_type": "markdown",
      "metadata": {
        "id": "skxWEN71mTgM"
      },
      "source": []
    },
    {
      "cell_type": "markdown",
      "metadata": {
        "id": "gPeEc-b-hQhE"
      },
      "source": [
        "# **Truth Tables** #"
      ]
    },
    {
      "cell_type": "markdown",
      "metadata": {
        "id": "4JkM8vimiipi"
      },
      "source": [
        "**Skewed Quadrants**:  Consider a decision rule in the $(x,y)$ plane which gives\n",
        "*  Class 1 if $x>1$ and $y<2x+3$\n",
        "*  Class 0 otherwise\n",
        "\n",
        "Questions:\n",
        "*  Explicitly construct a two-layer neural network with sigmoidal activations\n",
        "*  Use pytorch to construct a neural network doing the same thing. Explain the results."
      ]
    },
    {
      "cell_type": "markdown",
      "metadata": {
        "id": "I1O3b9ATCnos"
      },
      "source": []
    },
    {
      "cell_type": "markdown",
      "metadata": {
        "id": "dCSjnGfrJc2P"
      },
      "source": [
        "# **Training Testing and Validation** #\n",
        "\n"
      ]
    },
    {
      "cell_type": "markdown",
      "metadata": {
        "id": "aFXHU3GtMx57"
      },
      "source": [
        "**Two dimensional polynomials**:  The below code creates a dataframe consisting of (X,Y,Z) records.  Model the data (training, testing, validation) as\n",
        "$$ Z_n=\\sum_{\\alpha,\\beta}c_{\\alpha,\\beta}X_n^\\alpha Y_n^\\beta$$\n",
        "where $\\alpha$ and $\\beta$ in the sum range over all nonnegative integers such that $\\alpha+\\beta\\le D$ ($D$ being the degree of the polynomial), and where $D$ is a hyperparameter"
      ]
    },
    {
      "cell_type": "code",
      "metadata": {
        "colab": {
          "base_uri": "https://localhost:8080/",
          "height": 204
        },
        "id": "nzZc_96PKN5C",
        "outputId": "3ecbff83-fba2-4e92-f6ec-a56edd7f2ece"
      },
      "source": [
        "N=10\n",
        "X=scipy.stats.uniform.rvs(loc=0,scale=10,size=N)\n",
        "Y=scipy.stats.uniform.rvs(loc=0,scale=10,size=N)\n",
        "noise=scipy.stats.norm.rvs(scale=0.1,size=N)\n",
        "Z=5+X+Y-3*X*Y+0.2*X*X+0.5*X*X*Y+noise\n",
        "df=pandas.DataFrame({\"X\":X,\"Y\":Y,\"Z\":Z})\n",
        "df.head()"
      ],
      "execution_count": null,
      "outputs": [
        {
          "output_type": "execute_result",
          "data": {
            "text/html": [
              "<div>\n",
              "<style scoped>\n",
              "    .dataframe tbody tr th:only-of-type {\n",
              "        vertical-align: middle;\n",
              "    }\n",
              "\n",
              "    .dataframe tbody tr th {\n",
              "        vertical-align: top;\n",
              "    }\n",
              "\n",
              "    .dataframe thead th {\n",
              "        text-align: right;\n",
              "    }\n",
              "</style>\n",
              "<table border=\"1\" class=\"dataframe\">\n",
              "  <thead>\n",
              "    <tr style=\"text-align: right;\">\n",
              "      <th></th>\n",
              "      <th>X</th>\n",
              "      <th>Y</th>\n",
              "      <th>Z</th>\n",
              "    </tr>\n",
              "  </thead>\n",
              "  <tbody>\n",
              "    <tr>\n",
              "      <th>0</th>\n",
              "      <td>0.328457</td>\n",
              "      <td>1.387742</td>\n",
              "      <td>5.290534</td>\n",
              "    </tr>\n",
              "    <tr>\n",
              "      <th>1</th>\n",
              "      <td>0.781053</td>\n",
              "      <td>6.465169</td>\n",
              "      <td>-0.701520</td>\n",
              "    </tr>\n",
              "    <tr>\n",
              "      <th>2</th>\n",
              "      <td>3.342505</td>\n",
              "      <td>5.817386</td>\n",
              "      <td>-9.472208</td>\n",
              "    </tr>\n",
              "    <tr>\n",
              "      <th>3</th>\n",
              "      <td>0.433890</td>\n",
              "      <td>3.216643</td>\n",
              "      <td>4.600152</td>\n",
              "    </tr>\n",
              "    <tr>\n",
              "      <th>4</th>\n",
              "      <td>5.313016</td>\n",
              "      <td>9.665883</td>\n",
              "      <td>8.145629</td>\n",
              "    </tr>\n",
              "  </tbody>\n",
              "</table>\n",
              "</div>"
            ],
            "text/plain": [
              "          X         Y         Z\n",
              "0  0.328457  1.387742  5.290534\n",
              "1  0.781053  6.465169 -0.701520\n",
              "2  3.342505  5.817386 -9.472208\n",
              "3  0.433890  3.216643  4.600152\n",
              "4  5.313016  9.665883  8.145629"
            ]
          },
          "metadata": {},
          "execution_count": 3
        }
      ]
    },
    {
      "cell_type": "code",
      "metadata": {
        "id": "4frQz-6AXKTH"
      },
      "source": [],
      "execution_count": null,
      "outputs": []
    },
    {
      "cell_type": "markdown",
      "metadata": {
        "id": "KfW93IePXKx7"
      },
      "source": [
        "# **FeedForward networks** #"
      ]
    },
    {
      "cell_type": "markdown",
      "metadata": {
        "id": "NoazjB1eXQuU"
      },
      "source": [
        "**Piecewise Linear functions**:  represent the function\n",
        "$$ f(x)=\\begin{cases} 0 &\\text{if $x<0$} \\\\\n",
        "x &\\text{if $0\\le x<1$} \\\\\n",
        "2x &\\text{if $x\\ge 1$} \\end{cases}$$\n",
        "by a network of ReLU's."
      ]
    },
    {
      "cell_type": "markdown",
      "metadata": {
        "id": "MTGJ_cUwnOJ5"
      },
      "source": [
        "**Redfin Price Prediction**:  Download propery data from Redfin <https://www.redfin.com/> for several neighborhoods of Chicago.  Use multilayer neural networks to predict price based upon the feature set\n",
        "* Square Feet\n",
        "* Property Type\n",
        "* number of Beds\n",
        "* number of Baths\n",
        "* Year built\n",
        "* HOA/Month\n",
        "\n",
        "Use training, validation, and testing to vary the number and dimensions of layers."
      ]
    },
    {
      "cell_type": "markdown",
      "metadata": {
        "id": "IMVfMhO1oq1U"
      },
      "source": [
        "**Redfin Property Type Prediction**:  Download propery data from Redfin <https://www.redfin.com/> for several neighborhoods of Chicago.  Use multilayer neural networks to predict property type Single Family Residential vs Condo/Co-op based on the feature set\n",
        "* Square Feet\n",
        "* number of Beds\n",
        "* number of Baths\n",
        "* Year built\n",
        "* HOA/Month\n",
        "* Price\n",
        "\n",
        "Use training, validation, and testing to vary the number and dimensions of layers."
      ]
    },
    {
      "cell_type": "code",
      "metadata": {
        "id": "NJvY9-zoFpuo"
      },
      "source": [],
      "execution_count": null,
      "outputs": []
    },
    {
      "cell_type": "markdown",
      "metadata": {
        "id": "a6IJWT4acXkY"
      },
      "source": [
        "# **Stochastic Gradient Descent** #"
      ]
    },
    {
      "cell_type": "markdown",
      "metadata": {
        "id": "V3_59Orkcez3"
      },
      "source": [
        "**Robbins-Munro**:  Download propery data from Redfin <https://www.redfin.com/> for several neighborhoods of Chicago.  Use multilayer neural networks to predict property type Single Family Residential vs Condo/Co-op based on the feature set\n",
        "* Square Feet\n",
        "* number of Beds\n",
        "* number of Baths\n",
        "* Year built\n",
        "* HOA/Month\n",
        "* Price\n",
        "\n",
        "Use training, validation, and testing to vary the number and dimensions of layers."
      ]
    },
    {
      "cell_type": "markdown",
      "metadata": {
        "id": "MEfAN1rTGjAh"
      },
      "source": []
    },
    {
      "cell_type": "markdown",
      "metadata": {
        "id": "YKJMVL8LGjiK"
      },
      "source": []
    },
    {
      "cell_type": "markdown",
      "metadata": {
        "id": "b7GNdThwGkJ6"
      },
      "source": [
        "# **Recurrent Neural Networks** #"
      ]
    },
    {
      "cell_type": "markdown",
      "metadata": {
        "id": "dWzbriCqMgv0"
      },
      "source": [
        "**Elman and Jordan Networks**: Using data from <http://www.energyonline.com/Data/>, build and compare Jordan and Elman networks to predict actual prices in\n",
        "Illinois (output) based on day-ahead prices from the Illinois Hub and geographically adjacent hubs (inputs)."
      ]
    },
    {
      "cell_type": "markdown",
      "metadata": {
        "id": "hXWf-pLtKnSf"
      },
      "source": [
        "**Elman Networks with Time Encoding**: Using data from <http://www.energyonline.com/Data/>, build and assess an Elman network to predict actual prices in\n",
        "Illinois (output) based on day-ahead prices from the Illinois Hub a one-hot encoding of the hour of the day."
      ]
    },
    {
      "cell_type": "markdown",
      "metadata": {
        "id": "5NnbgmTiEDFw"
      },
      "source": [
        "# **Reinforcement Learning** #"
      ]
    },
    {
      "cell_type": "markdown",
      "metadata": {
        "id": "6eD-2g3KFLN4"
      },
      "source": [
        "The code of https://pytorch.org/tutorials/intermediate/reinforcement_q_learning.html builds a control policy for the mountain car dynamics of https://gym.openai.com/envs/MountainCar-v0/.  In doing so, the state space is the set of images (and it builds a convolutional neural network to interpret images).  Our presentation of the material of reinforcement learning, however, was based on the state space of (position,velocity) vectors (and the code for the lectures gives an example of how to extract position and velocity from the environments of <https://gym.openai.com/>).\n",
        "\n",
        "\n",
        "1.   Rewrite the code of the pytorch tutorial\n",
        "          * use position,velocity as the state space, rather than images\n",
        "          * implement the theoretical dependence on reaching the goal (rather than a using a large reward function as the pytorch code is currently written)\n",
        "          *  write the code to minimize cost, rather than maximize reward\n",
        "2.   Modify the code of part 1 to give cost 1 at each time for forward acceleration and cost 2 at each time for backward acceleration"
      ]
    }
  ]
}