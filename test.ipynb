{
 "cells": [
  {
   "cell_type": "code",
   "execution_count": 2,
   "metadata": {},
   "outputs": [
    {
     "data": {
      "text/html": [
       "<div>\n",
       "<style scoped>\n",
       "    .dataframe tbody tr th:only-of-type {\n",
       "        vertical-align: middle;\n",
       "    }\n",
       "\n",
       "    .dataframe tbody tr th {\n",
       "        vertical-align: top;\n",
       "    }\n",
       "\n",
       "    .dataframe thead th {\n",
       "        text-align: right;\n",
       "    }\n",
       "</style>\n",
       "<table border=\"1\" class=\"dataframe\">\n",
       "  <thead>\n",
       "    <tr style=\"text-align: right;\">\n",
       "      <th></th>\n",
       "      <th>team</th>\n",
       "      <th>x</th>\n",
       "      <th>y</th>\n",
       "      <th>fgmade</th>\n",
       "    </tr>\n",
       "  </thead>\n",
       "  <tbody>\n",
       "    <tr>\n",
       "      <th>0</th>\n",
       "      <td>Team A</td>\n",
       "      <td>-5.0</td>\n",
       "      <td>26.4</td>\n",
       "      <td>0</td>\n",
       "    </tr>\n",
       "    <tr>\n",
       "      <th>1</th>\n",
       "      <td>Team A</td>\n",
       "      <td>-0.8</td>\n",
       "      <td>1.2</td>\n",
       "      <td>1</td>\n",
       "    </tr>\n",
       "    <tr>\n",
       "      <th>2</th>\n",
       "      <td>Team A</td>\n",
       "      <td>-13.9</td>\n",
       "      <td>9.5</td>\n",
       "      <td>1</td>\n",
       "    </tr>\n",
       "    <tr>\n",
       "      <th>3</th>\n",
       "      <td>Team A</td>\n",
       "      <td>-5.4</td>\n",
       "      <td>26.2</td>\n",
       "      <td>0</td>\n",
       "    </tr>\n",
       "    <tr>\n",
       "      <th>4</th>\n",
       "      <td>Team A</td>\n",
       "      <td>-4.9</td>\n",
       "      <td>14.5</td>\n",
       "      <td>1</td>\n",
       "    </tr>\n",
       "    <tr>\n",
       "      <th>...</th>\n",
       "      <td>...</td>\n",
       "      <td>...</td>\n",
       "      <td>...</td>\n",
       "      <td>...</td>\n",
       "    </tr>\n",
       "    <tr>\n",
       "      <th>499</th>\n",
       "      <td>Team B</td>\n",
       "      <td>-0.5</td>\n",
       "      <td>2.2</td>\n",
       "      <td>0</td>\n",
       "    </tr>\n",
       "    <tr>\n",
       "      <th>500</th>\n",
       "      <td>Team B</td>\n",
       "      <td>3.5</td>\n",
       "      <td>7.6</td>\n",
       "      <td>0</td>\n",
       "    </tr>\n",
       "    <tr>\n",
       "      <th>501</th>\n",
       "      <td>Team B</td>\n",
       "      <td>0.2</td>\n",
       "      <td>8.8</td>\n",
       "      <td>0</td>\n",
       "    </tr>\n",
       "    <tr>\n",
       "      <th>502</th>\n",
       "      <td>Team B</td>\n",
       "      <td>-0.6</td>\n",
       "      <td>0.7</td>\n",
       "      <td>1</td>\n",
       "    </tr>\n",
       "    <tr>\n",
       "      <th>503</th>\n",
       "      <td>Team B</td>\n",
       "      <td>-0.3</td>\n",
       "      <td>3.6</td>\n",
       "      <td>0</td>\n",
       "    </tr>\n",
       "  </tbody>\n",
       "</table>\n",
       "<p>504 rows × 4 columns</p>\n",
       "</div>"
      ],
      "text/plain": [
       "       team     x     y  fgmade\n",
       "0    Team A  -5.0  26.4       0\n",
       "1    Team A  -0.8   1.2       1\n",
       "2    Team A -13.9   9.5       1\n",
       "3    Team A  -5.4  26.2       0\n",
       "4    Team A  -4.9  14.5       1\n",
       "..      ...   ...   ...     ...\n",
       "499  Team B  -0.5   2.2       0\n",
       "500  Team B   3.5   7.6       0\n",
       "501  Team B   0.2   8.8       0\n",
       "502  Team B  -0.6   0.7       1\n",
       "503  Team B  -0.3   3.6       0\n",
       "\n",
       "[504 rows x 4 columns]"
      ]
     },
     "execution_count": 2,
     "metadata": {},
     "output_type": "execute_result"
    }
   ],
   "source": [
    "import pandas as pd\n",
    "data = pd.read_csv(\"shots_data.csv\")\n",
    "data"
   ]
  },
  {
   "cell_type": "code",
   "execution_count": 5,
   "metadata": {},
   "outputs": [
    {
     "data": {
      "text/html": [
       "<div>\n",
       "<style scoped>\n",
       "    .dataframe tbody tr th:only-of-type {\n",
       "        vertical-align: middle;\n",
       "    }\n",
       "\n",
       "    .dataframe tbody tr th {\n",
       "        vertical-align: top;\n",
       "    }\n",
       "\n",
       "    .dataframe thead th {\n",
       "        text-align: right;\n",
       "    }\n",
       "</style>\n",
       "<table border=\"1\" class=\"dataframe\">\n",
       "  <thead>\n",
       "    <tr style=\"text-align: right;\">\n",
       "      <th></th>\n",
       "      <th>team</th>\n",
       "      <th>x</th>\n",
       "      <th>y</th>\n",
       "      <th>fgmade</th>\n",
       "      <th>area</th>\n",
       "    </tr>\n",
       "  </thead>\n",
       "  <tbody>\n",
       "    <tr>\n",
       "      <th>0</th>\n",
       "      <td>Team A</td>\n",
       "      <td>-5.0</td>\n",
       "      <td>26.4</td>\n",
       "      <td>0</td>\n",
       "      <td>NC3</td>\n",
       "    </tr>\n",
       "    <tr>\n",
       "      <th>1</th>\n",
       "      <td>Team A</td>\n",
       "      <td>-0.8</td>\n",
       "      <td>1.2</td>\n",
       "      <td>1</td>\n",
       "      <td>2PT</td>\n",
       "    </tr>\n",
       "    <tr>\n",
       "      <th>2</th>\n",
       "      <td>Team A</td>\n",
       "      <td>-13.9</td>\n",
       "      <td>9.5</td>\n",
       "      <td>1</td>\n",
       "      <td>2PT</td>\n",
       "    </tr>\n",
       "    <tr>\n",
       "      <th>3</th>\n",
       "      <td>Team A</td>\n",
       "      <td>-5.4</td>\n",
       "      <td>26.2</td>\n",
       "      <td>0</td>\n",
       "      <td>NC3</td>\n",
       "    </tr>\n",
       "    <tr>\n",
       "      <th>4</th>\n",
       "      <td>Team A</td>\n",
       "      <td>-4.9</td>\n",
       "      <td>14.5</td>\n",
       "      <td>1</td>\n",
       "      <td>2PT</td>\n",
       "    </tr>\n",
       "    <tr>\n",
       "      <th>...</th>\n",
       "      <td>...</td>\n",
       "      <td>...</td>\n",
       "      <td>...</td>\n",
       "      <td>...</td>\n",
       "      <td>...</td>\n",
       "    </tr>\n",
       "    <tr>\n",
       "      <th>499</th>\n",
       "      <td>Team B</td>\n",
       "      <td>-0.5</td>\n",
       "      <td>2.2</td>\n",
       "      <td>0</td>\n",
       "      <td>2PT</td>\n",
       "    </tr>\n",
       "    <tr>\n",
       "      <th>500</th>\n",
       "      <td>Team B</td>\n",
       "      <td>3.5</td>\n",
       "      <td>7.6</td>\n",
       "      <td>0</td>\n",
       "      <td>2PT</td>\n",
       "    </tr>\n",
       "    <tr>\n",
       "      <th>501</th>\n",
       "      <td>Team B</td>\n",
       "      <td>0.2</td>\n",
       "      <td>8.8</td>\n",
       "      <td>0</td>\n",
       "      <td>2PT</td>\n",
       "    </tr>\n",
       "    <tr>\n",
       "      <th>502</th>\n",
       "      <td>Team B</td>\n",
       "      <td>-0.6</td>\n",
       "      <td>0.7</td>\n",
       "      <td>1</td>\n",
       "      <td>2PT</td>\n",
       "    </tr>\n",
       "    <tr>\n",
       "      <th>503</th>\n",
       "      <td>Team B</td>\n",
       "      <td>-0.3</td>\n",
       "      <td>3.6</td>\n",
       "      <td>0</td>\n",
       "      <td>2PT</td>\n",
       "    </tr>\n",
       "  </tbody>\n",
       "</table>\n",
       "<p>504 rows × 5 columns</p>\n",
       "</div>"
      ],
      "text/plain": [
       "       team     x     y  fgmade area\n",
       "0    Team A  -5.0  26.4       0  NC3\n",
       "1    Team A  -0.8   1.2       1  2PT\n",
       "2    Team A -13.9   9.5       1  2PT\n",
       "3    Team A  -5.4  26.2       0  NC3\n",
       "4    Team A  -4.9  14.5       1  2PT\n",
       "..      ...   ...   ...     ...  ...\n",
       "499  Team B  -0.5   2.2       0  2PT\n",
       "500  Team B   3.5   7.6       0  2PT\n",
       "501  Team B   0.2   8.8       0  2PT\n",
       "502  Team B  -0.6   0.7       1  2PT\n",
       "503  Team B  -0.3   3.6       0  2PT\n",
       "\n",
       "[504 rows x 5 columns]"
      ]
     },
     "execution_count": 5,
     "metadata": {},
     "output_type": "execute_result"
    }
   ],
   "source": [
    "def func(input):\n",
    "    dist = (input.x ** 2 + input.y ** 2) ** 0.5\n",
    "    if abs(input.x) > 22 and input.y <= 7.8:\n",
    "        return \"C3\"\n",
    "    elif dist >= 23.75 and input.y > 7.8:\n",
    "        return \"NC3\"\n",
    "    elif dist < 23.75 and input.y > 7.8:\n",
    "        return \"2PT\"\n",
    "    elif input.y <= 7.8 and abs(input.x) <= 22:\n",
    "        return \"2PT\"\n",
    "    else:\n",
    "        return \"error\"\n",
    "data[\"area\"] = data.apply(func,axis=1)\n",
    "data\n"
   ]
  },
  {
   "cell_type": "code",
   "execution_count": 58,
   "metadata": {},
   "outputs": [
    {
     "data": {
      "text/plain": [
       "0.6928571428571428"
      ]
     },
     "execution_count": 58,
     "metadata": {},
     "output_type": "execute_result"
    }
   ],
   "source": [
    "# For Team A, the their shots were attempted in the 2PT zone\n",
    "a = data[(data[\"team\"] == \"Team A\")]\n",
    "b = data[(data[\"team\"] == \"Team A\")& (data[\"area\"] == \"2PT\" )]\n",
    "len(b) / len(a)"
   ]
  },
  {
   "cell_type": "code",
   "execution_count": 59,
   "metadata": {},
   "outputs": [
    {
     "data": {
      "text/plain": [
       "0.06428571428571428"
      ]
     },
     "execution_count": 59,
     "metadata": {},
     "output_type": "execute_result"
    }
   ],
   "source": [
    "# For Team A, the their shots were attempted in the C3 zone\n",
    "a = data[(data[\"team\"] == \"Team A\")]\n",
    "b = data[(data[\"team\"] == \"Team A\")& (data[\"area\"] == \"C3\" )]\n",
    "len(b) / len(a)"
   ]
  },
  {
   "cell_type": "code",
   "execution_count": 60,
   "metadata": {},
   "outputs": [
    {
     "data": {
      "text/plain": [
       "0.24285714285714285"
      ]
     },
     "execution_count": 60,
     "metadata": {},
     "output_type": "execute_result"
    }
   ],
   "source": [
    "# For Team A, the their shots were attempted in the NC3 zone\n",
    "a = data[(data[\"team\"] == \"Team A\")]\n",
    "b = data[(data[\"team\"] == \"Team A\")& (data[\"area\"] == \"NC3\" )]\n",
    "len(b) / len(a)"
   ]
  },
  {
   "cell_type": "code",
   "execution_count": 62,
   "metadata": {},
   "outputs": [
    {
     "data": {
      "text/plain": [
       "0.4896907216494845"
      ]
     },
     "execution_count": 62,
     "metadata": {},
     "output_type": "execute_result"
    }
   ],
   "source": [
    "# For Team A, the eFG in the 2PT zone\n",
    "a = data[(data[\"team\"] == \"Team A\")& (data[\"area\"] == \"2PT\" )]\n",
    "b = data[(data[\"team\"] == \"Team A\")&(data[\"fgmade\"] == 1 ) & (data[\"area\"] == \"2PT\" )]\n",
    "len(b) / len(a)"
   ]
  },
  {
   "cell_type": "code",
   "execution_count": 63,
   "metadata": {},
   "outputs": [
    {
     "data": {
      "text/plain": [
       "0.3088235294117647"
      ]
     },
     "execution_count": 63,
     "metadata": {},
     "output_type": "execute_result"
    }
   ],
   "source": [
    "# For Team A, the eFG in the NC3 zone\n",
    "a = data[(data[\"team\"] == \"Team A\")& (data[\"area\"] == \"NC3\" )]\n",
    "b = data[(data[\"team\"] == \"Team A\")&(data[\"fgmade\"] == 1 ) & (data[\"area\"] == \"NC3\" )]\n",
    "len(b) / len(a)"
   ]
  },
  {
   "cell_type": "code",
   "execution_count": 64,
   "metadata": {},
   "outputs": [
    {
     "data": {
      "text/plain": [
       "0.5"
      ]
     },
     "execution_count": 64,
     "metadata": {},
     "output_type": "execute_result"
    }
   ],
   "source": [
    "# For Team A, the eFG in the C3 zone\n",
    "a = data[(data[\"team\"] == \"Team A\")& (data[\"area\"] == \"C3\" )]\n",
    "b = data[(data[\"team\"] == \"Team A\")&(data[\"fgmade\"] == 1 ) & (data[\"area\"] == \"C3\" )]\n",
    "len(b) / len(a)"
   ]
  },
  {
   "cell_type": "code",
   "execution_count": 61,
   "metadata": {},
   "outputs": [
    {
     "data": {
      "text/plain": [
       "0.6741071428571429"
      ]
     },
     "execution_count": 61,
     "metadata": {},
     "output_type": "execute_result"
    }
   ],
   "source": [
    "# For Team B, the their shots were attempted in the 2PT zone\n",
    "a = data[(data[\"team\"] == \"Team B\")]\n",
    "b = data[(data[\"team\"] == \"Team B\")& (data[\"area\"] == \"2PT\" )]\n",
    "len(b) / len(a)"
   ]
  },
  {
   "cell_type": "code",
   "execution_count": 65,
   "metadata": {},
   "outputs": [
    {
     "data": {
      "text/plain": [
       "0.2767857142857143"
      ]
     },
     "execution_count": 65,
     "metadata": {},
     "output_type": "execute_result"
    }
   ],
   "source": [
    "# For Team B, the their shots were attempted in the NC3 zone\n",
    "a = data[(data[\"team\"] == \"Team B\")]\n",
    "b = data[(data[\"team\"] == \"Team B\")& (data[\"area\"] == \"NC3\" )]\n",
    "len(b) / len(a)"
   ]
  },
  {
   "cell_type": "code",
   "execution_count": 66,
   "metadata": {},
   "outputs": [
    {
     "data": {
      "text/plain": [
       "0.049107142857142856"
      ]
     },
     "execution_count": 66,
     "metadata": {},
     "output_type": "execute_result"
    }
   ],
   "source": [
    "# For Team B, the their shots were attempted in the C3 zone\n",
    "a = data[(data[\"team\"] == \"Team B\")]\n",
    "b = data[(data[\"team\"] == \"Team B\")& (data[\"area\"] == \"C3\" )]\n",
    "len(b) / len(a)"
   ]
  },
  {
   "cell_type": "code",
   "execution_count": 67,
   "metadata": {},
   "outputs": [
    {
     "data": {
      "text/plain": [
       "0.44370860927152317"
      ]
     },
     "execution_count": 67,
     "metadata": {},
     "output_type": "execute_result"
    }
   ],
   "source": [
    "# For Team B, the eFG in the 2PT zone\n",
    "a = data[(data[\"team\"] == \"Team B\")& (data[\"area\"] == \"2PT\" )]\n",
    "b = data[(data[\"team\"] == \"Team B\")&(data[\"fgmade\"] == 1 ) & (data[\"area\"] == \"2PT\" )]\n",
    "len(b) / len(a)"
   ]
  },
  {
   "cell_type": "code",
   "execution_count": 68,
   "metadata": {},
   "outputs": [
    {
     "data": {
      "text/plain": [
       "0.3387096774193548"
      ]
     },
     "execution_count": 68,
     "metadata": {},
     "output_type": "execute_result"
    }
   ],
   "source": [
    "# For Team B, the eFG in the NC3 zone\n",
    "a = data[(data[\"team\"] == \"Team B\")& (data[\"area\"] == \"NC3\" )]\n",
    "b = data[(data[\"team\"] == \"Team B\")&(data[\"fgmade\"] == 1 ) & (data[\"area\"] == \"NC3\" )]\n",
    "len(b) / len(a)"
   ]
  },
  {
   "cell_type": "code",
   "execution_count": 69,
   "metadata": {},
   "outputs": [
    {
     "data": {
      "text/plain": [
       "0.36363636363636365"
      ]
     },
     "execution_count": 69,
     "metadata": {},
     "output_type": "execute_result"
    }
   ],
   "source": [
    "# For Team B, the eFG in the C3 zone\n",
    "a = data[(data[\"team\"] == \"Team B\")& (data[\"area\"] == \"C3\" )]\n",
    "b = data[(data[\"team\"] == \"Team B\")&(data[\"fgmade\"] == 1 ) & (data[\"area\"] == \"C3\" )]\n",
    "len(b) / len(a)"
   ]
  }
 ],
 "metadata": {
  "kernelspec": {
   "display_name": "Python 3.9.12 ('base')",
   "language": "python",
   "name": "python3"
  },
  "language_info": {
   "codemirror_mode": {
    "name": "ipython",
    "version": 3
   },
   "file_extension": ".py",
   "mimetype": "text/x-python",
   "name": "python",
   "nbconvert_exporter": "python",
   "pygments_lexer": "ipython3",
   "version": "3.9.12"
  },
  "orig_nbformat": 4,
  "vscode": {
   "interpreter": {
    "hash": "073a2bbbba93ce50a1ecc54b8e52084e40d5c18eaec115c9ee5b079755c2ed4f"
   }
  }
 },
 "nbformat": 4,
 "nbformat_minor": 2
}
